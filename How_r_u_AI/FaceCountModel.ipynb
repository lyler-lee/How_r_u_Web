{
 "cells": [
  {
   "cell_type": "code",
   "execution_count": null,
   "id": "0",
   "metadata": {},
   "outputs": [],
   "source": [
    "from ultralytics import YOLO\n",
    "import cv2\n",
    "\n",
    "# 1) 사전학습된 얼굴 전용 모델 로드\n",
    "#    ultralytics 허브에서 제공하는 'yolov8n-face.pt'를 사용\n",
    "model = YOLO(\"yolov8n.pt\")\n",
    "\n",
    "# 2) 이미지 로드\n",
    "img = cv2.imread('image2.jpg')\n",
    "\n",
    "# 3) 추론 수행 (batch_size=1)\n",
    "#    results[0].boxes.xyxy  에 N×4 array로 박스 좌표, \n",
    "#    results[0].boxes.conf  에 N개 confidence\n",
    "results = model(img)[0]  \n",
    "\n",
    "# 4) 얼굴 개수 및 박스 정보 획득\n",
    "boxes = results.boxes.xyxy.cpu().numpy()\n",
    "confs = results.boxes.conf.cpu().numpy()\n",
    "n_faces = len(boxes)\n",
    "\n",
    "if n_faces == 0:\n",
    "    print(\"얼굴 없음\")\n",
    "else:\n",
    "    print(f\"얼굴 있음 (개수: {n_faces})\")\n",
    "    for i, (box, conf) in enumerate(zip(boxes, confs), 1):\n",
    "        x1,y1,x2,y2 = box.astype(int)\n",
    "        print(f\"  Face {i}: box=({x1},{y1})→({x2},{y2}), conf={conf:.2f}\")\n",
    "        # 박스 그리기 (선택)\n",
    "        cv2.rectangle(img, (x1,y1), (x2,y2), (0,255,0), 2)\n",
    "\n",
    "# 5) 결과 시각화 (옵션)\n",
    "cv2.imshow('faces', img)\n",
    "cv2.waitKey(0)\n",
    "cv2.destroyAllWindows()\n"
   ]
  },
  {
   "cell_type": "code",
   "execution_count": null,
   "id": "1",
   "metadata": {},
   "outputs": [],
   "source": []
  }
 ],
 "metadata": {
  "kernelspec": {
   "display_name": "Python 3 (ipykernel)",
   "language": "python",
   "name": "python3"
  },
  "language_info": {
   "codemirror_mode": {
    "name": "ipython",
    "version": 3
   },
   "file_extension": ".py",
   "mimetype": "text/x-python",
   "name": "python",
   "nbconvert_exporter": "python",
   "pygments_lexer": "ipython3",
   "version": "3.13.3"
  }
 },
 "nbformat": 4,
 "nbformat_minor": 5
}
